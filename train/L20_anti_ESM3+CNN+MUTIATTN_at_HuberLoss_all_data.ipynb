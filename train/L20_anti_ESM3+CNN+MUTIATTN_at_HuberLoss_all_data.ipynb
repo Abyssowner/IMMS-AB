{
 "cells": [
  {
   "cell_type": "code",
   "execution_count": 2,
   "id": "ec6d3bca-abe7-4e09-af99-000de81a7ab4",
   "metadata": {
    "papermill": {
     "duration": 9.155247,
     "end_time": "2024-10-01T06:18:14.479880",
     "exception": false,
     "start_time": "2024-10-01T06:18:05.324633",
     "status": "completed"
    },
    "tags": []
   },
   "outputs": [],
   "source": [
    "import pandas as pd\n",
    "from torch.utils.data import Dataset, DataLoader\n",
    "from sklearn.preprocessing import StandardScaler\n",
    "from sklearn.model_selection import train_test_split\n",
    "import torch\n",
    "import numpy as np\n",
    "'''\n",
    "class VirusDataset(Dataset):\n",
    "    def __init__(self, X, y):\n",
    "        self.X = X#torch.tensor(X, dtype=torch.float32)#因为之前scaler.fit_transform(X)过后是array形状\n",
    "        self.y = torch.tensor(y, dtype=torch.long)\n",
    "\n",
    "    def __len__(self):\n",
    "        return len(self.y)\n",
    "\n",
    "    def __getitem__(self, idx):\n",
    "        return self.X[idx], self.y[idx]\n",
    "'''\n",
    "class VirusDataset(Dataset):\n",
    "    def __init__(self, X, Y,Z,label, max_length=256,max_length_gene=1024):\n",
    "        self.aacid_to_index = {'<cls>': 0,\n",
    "                                 '<pad>': 1,\n",
    "                                 '<eos>': 2,\n",
    "                                 '<unk>': 3,\n",
    "                                 'L': 4,\n",
    "                                 'J': 4,\n",
    "                                 'A': 5,\n",
    "                                 'G': 6,\n",
    "                                 'V': 7,\n",
    "                                 'S': 8,\n",
    "                                 'E': 9,\n",
    "                                 'R': 10,\n",
    "                                 'T': 11,\n",
    "                                 'I': 12,\n",
    "                                 'D': 13,\n",
    "                                 'P': 14,\n",
    "                                 'K': 15,\n",
    "                                 'Q': 16,\n",
    "                                 'N': 17,\n",
    "                                 'F': 18,\n",
    "                                 'Y': 19,\n",
    "                                 'M': 20,\n",
    "                                 'H': 21,\n",
    "                                 'W': 22,\n",
    "                                 'C': 23,\n",
    "                                 'X': 24,\n",
    "                                 'B': 25,\n",
    "                                 'U': 26,\n",
    "                                 'Z': 27,\n",
    "                                 'O': 28,\n",
    "                                 '.': 29,\n",
    "                                 '-': 30,\n",
    "                                 '<null_1>': 31,\n",
    "                                 '<mask>': 32}\n",
    "        self.start_token = '<cls>'\n",
    "        self.end_token = '<eos>'\n",
    "        self.pad_token = '<pad>'\n",
    "        self.X = [self.tokenize_aacid_sequence(seq, max_length) for seq in X]\n",
    "        self.Y = [self.tokenize_aacid_sequence(seq, max_length) for seq in Y]\n",
    "        self.Z = [self.tokenize_aacid_sequence(seq, max_length) for seq in Z]\n",
    "        self.label = label\n",
    "    def __len__(self):\n",
    "        return len(self.Y)\n",
    "\n",
    "    def __getitem__(self, idx):\n",
    "        return self.X[idx], self.Y[idx],self.Z[idx],self.label[idx]\n",
    "\n",
    "    def tokenize_aacid_sequence(self, sequence, max_length):\n",
    "        # 将序列截断或填充到max_length\n",
    "        sequence = sequence.replace(' ','')\n",
    "        sequence = [self.aacid_to_index[aacid] for aacid in sequence]\n",
    "        sequence = [self.aacid_to_index[self.start_token]] + sequence + [self.aacid_to_index[self.end_token]]\n",
    "        sequence = sequence[:max_length] + [self.aacid_to_index[self.pad_token]] * (max_length - len(sequence))\n",
    "\n",
    "        # 转换为tensor\n",
    "        sequence = torch.tensor(sequence, dtype=torch.long)\n",
    "\n",
    "        return sequence\n",
    "# 读取数据\n",
    "selected_columns = pd.read_csv('/public/home/ligroupprotein/ckx/affinity/data/merged_dataset.tsv', sep='\\t')\n",
    "\n",
    "# X是每行的3-6列元素，Y是第一列的元素 第一列是基因\n",
    "X = selected_columns.iloc[:, 1].values.reshape(-1, 1).tolist()\n",
    "for i in range(len(X)):\n",
    "    X[i] = ' '.join(X[i])\n",
    "Y = selected_columns.iloc[:, 2].values.reshape(-1, 1).tolist()\n",
    "for i in range(len(Y)):\n",
    "    Y[i] = ' '.join(Y[i])\n",
    "Z = selected_columns.iloc[:, 3].values.reshape(-1, 1).tolist()\n",
    "for i in range(len(Z)):\n",
    "    Z[i] = ' '.join(Z[i])\n",
    "label = selected_columns.iloc[:, 4].values.reshape(-1, 1).tolist()\n",
    "for i in range(len(label)):\n",
    "    label[i] =  label[i][0]\n",
    "X_train, X_test, y_train, y_test, Z_train, Z_test,label_train, label_test = train_test_split(X, Y,Z,label, test_size=0.2, random_state=42)\n",
    "\n",
    "# 创建数据集\n",
    "train_dataset = VirusDataset(X_train, y_train,Z_train,label_train)\n",
    "test_dataset = VirusDataset(X_test, y_test,Z_test,label_test)\n",
    "\n",
    "train_size = int(0.8 * len(train_dataset))\n",
    "val_size = len(train_dataset) - train_size\n",
    "train_dataset, val_dataset = torch.utils.data.random_split(train_dataset, [train_size, val_size])\n",
    "# 创建数据加载器\n",
    "train_dataloader = DataLoader(train_dataset, batch_size=16, shuffle=True)\n",
    "test_dataloader = DataLoader(test_dataset, batch_size=16, shuffle=True)\n",
    "val_dataloader = DataLoader(val_dataset, batch_size=16, shuffle=True)"
   ]
  },
  {
   "cell_type": "code",
   "execution_count": 3,
   "id": "96511e5e",
   "metadata": {
    "papermill": {
     "duration": 0.831147,
     "end_time": "2024-10-01T06:18:17.466532",
     "exception": false,
     "start_time": "2024-10-01T06:18:16.635385",
     "status": "completed"
    },
    "tags": []
   },
   "outputs": [],
   "source": [
    "import pytorch_lightning as pl\n",
    "from torch import nn\n",
    "import torch\n",
    "import torchmetrics\n",
    "from transformers import EsmTokenizer,EsmModel\n",
    "import torch.nn.functional as F\n",
    "from esm.models.esmc import ESMC\n",
    "\n",
    "class TextCNN(nn.Module):\n",
    "    def __init__(self, in_channels, out_channels, kernel_sizes, num_classes,maxpool):\n",
    "        super(TextCNN, self).__init__()\n",
    "        self.convs = nn.ModuleList([\n",
    "            nn.Sequential(\n",
    "                nn.Conv1d(in_channels, out_channels, kernel_size),\n",
    "                nn.ReLU(),\n",
    "                nn.MaxPool1d(kernel_size=maxpool)\n",
    "            )\n",
    "            for kernel_size in kernel_sizes\n",
    "        ])\n",
    "\n",
    "    def forward(self, x):\n",
    "        x = x.permute(0, 2, 1)#batch representation length\n",
    "        x = [conv(x) for conv in self.convs]\n",
    "        x = torch.cat(x, dim=2)\n",
    "        return x\n",
    "\n",
    "class HuberLoss(nn.Module):\n",
    "    def __init__(self, delta=1.0):\n",
    "        super().__init__()\n",
    "        self.delta = delta\n",
    "    \n",
    "    def forward(self, pred, target):\n",
    "        # 确保pred和target维度一致\n",
    "        pred = pred.view(-1, 1)\n",
    "        target = target.view(-1, 1)\n",
    "        \n",
    "        # 计算差值\n",
    "        diff = pred - target\n",
    "        abs_diff = torch.abs(diff)\n",
    "        condition = abs_diff <= self.delta\n",
    "        \n",
    "        # 分段计算损失\n",
    "        quadratic = 0.5 * diff ** 2\n",
    "        linear = self.delta * abs_diff - 0.5 * self.delta ** 2\n",
    "        \n",
    "        loss = torch.where(condition, quadratic, linear)\n",
    "        return loss.mean()\n",
    "\n",
    "class LogCoshLoss(nn.Module):\n",
    "    def __init__(self):\n",
    "        super().__init__()\n",
    "        \n",
    "    def forward(self, pred, target):\n",
    "        loss = torch.log(torch.cosh(pred - target))\n",
    "        return torch.mean(loss)\n",
    "\n",
    "class CustomProteinLoss(nn.Module):\n",
    "    def __init__(self, mse_weight=0.7, mae_weight=0.3):\n",
    "        super().__init__()\n",
    "        self.mse_weight = mse_weight\n",
    "        self.mae_weight = mae_weight\n",
    "        \n",
    "    def forward(self, pred, target):\n",
    "        mse_loss = F.mse_loss(pred, target)\n",
    "        mae_loss = F.l1_loss(pred, target)\n",
    "        return self.mse_weight * mse_loss + self.mae_weight * mae_loss\n",
    "\n",
    "class ClassifierNet(pl.LightningModule):\n",
    "    def __init__(self):#应该是要上面的Transformer里从encoder里出来的用来做分类\n",
    "        super(ClassifierNet, self).__init__()\n",
    "        # 定义参数\n",
    "        num_features = 512  # 特征数量，也是Transformer的d_model参数\n",
    "        num_classes = 30  # 类别数量 因为是预测结果也是氨基酸 所以是词表大小 为30\n",
    "        nhead = 8  # Transformer的头的数量\n",
    "        num_encoder_layers = 3  # Transformer编码器的层数\n",
    "        num_decoder_layers = 3  # Transformer解码器的层数\n",
    "        learning_rate = 0.0001  # 学习率\n",
    "        num_epochs = 100\n",
    "        # 初始化模型\n",
    "        seed = random.randint(0, 10000)\n",
    "        self.esm = ESMC.from_pretrained(\"esmc_300m\")\n",
    "        self.esm_antigen = ESMC.from_pretrained(\"esmc_300m\")\n",
    "        self.layer1 = nn.Sequential(\n",
    "            nn.Conv1d(960, 64, kernel_size=5, stride=1, padding=2),\n",
    "            nn.BatchNorm1d(64),\n",
    "            nn.ReLU(),\n",
    "            nn.MaxPool1d(kernel_size=2, stride=2)\n",
    "        )\n",
    "        self.layer2 = nn.Sequential(\n",
    "            nn.Conv1d(64, 128, kernel_size=5, stride=1, padding=2),\n",
    "            nn.ReLU(),\n",
    "            nn.MaxPool1d(kernel_size=2, stride=2))\n",
    "        self.light_layer1 = nn.Sequential(\n",
    "            nn.Conv1d(960, 64, kernel_size=5, stride=1, padding=2),\n",
    "            nn.BatchNorm1d(64),\n",
    "            nn.ReLU(),\n",
    "            nn.MaxPool1d(kernel_size=2, stride=2)\n",
    "        )\n",
    "        self.light_layer2 = nn.Sequential(\n",
    "            nn.Conv1d(64, 128, kernel_size=5, stride=1, padding=2),\n",
    "            nn.ReLU(),\n",
    "            nn.MaxPool1d(kernel_size=2, stride=2))\n",
    "        self.antigen_layer1 = nn.Sequential(\n",
    "            nn.Conv1d(960, 64, kernel_size=5, stride=1, padding=2),\n",
    "            nn.BatchNorm1d(64),\n",
    "            nn.ReLU(),\n",
    "            nn.MaxPool1d(kernel_size=2, stride=2)\n",
    "        )\n",
    "        self.antigen_layer2 = nn.Sequential(\n",
    "            nn.Conv1d(64, 128, kernel_size=5, stride=1, padding=2),\n",
    "            nn.ReLU(),\n",
    "            nn.MaxPool1d(kernel_size=2, stride=2))\n",
    "        self.drop_out = nn.Dropout()\n",
    "        self.fc1 = None#nn.Linear(self.out_channels * len(self.kernel_sizes) * (256 - max(self.kernel_sizes) + 1), 1000)\n",
    "        self.fc2 = nn.Linear(1000,1)\n",
    "        self.multihead_attention = nn.MultiheadAttention(embed_dim=128, num_heads=nhead)\n",
    "        self.multihead_attentio_light = nn.MultiheadAttention(embed_dim=128, num_heads=nhead)\n",
    "        self.multihead_attentio_antigen = nn.MultiheadAttention(embed_dim=128, num_heads=nhead)\n",
    "        # 回归任务的评价指标\n",
    "        self.mse = torchmetrics.MeanSquaredError()\n",
    "        self.mae = torchmetrics.MeanAbsoluteError()\n",
    "        self.rmse = torchmetrics.MeanSquaredError(squared=False)  # RMSE\n",
    "        self.r2score = torchmetrics.R2Score()  # R²决定系数\n",
    "        self.pearson = torchmetrics.PearsonCorrCoef()  # 皮尔森相关系数\n",
    "        dtype = torch.float32  # 或 torch.bfloat16\n",
    "        self.to(dtype)\n",
    "\n",
    "    def on_train_epoch_start(self):\n",
    "        # 记录当前使用哪个模型，便于日志记录\n",
    "        current_model = \"esm\" if self.current_epoch % 2 == 0 else \"esm_antigen\"\n",
    "        self.log(\"current_model\", current_model)\n",
    "        print(f\"Epoch {self.current_epoch}: Using {current_model} model\")\n",
    "        \n",
    "    def one_hot_encode(self,input_string):\n",
    "        mapping = {\n",
    "            'A': 0,\n",
    "            'T': 1,\n",
    "            'G': 2,\n",
    "            'C': 3,\n",
    "            '<eos>': 4,\n",
    "            '<sep>': 5,\n",
    "            '<mask>': 6,\n",
    "            '<pad>': 7,\n",
    "        }\n",
    "\n",
    "        # 将整数转换为one-hot编码\n",
    "        one_hot_encoded = F.one_hot(input_string, num_classes=len(mapping))\n",
    "\n",
    "        return one_hot_encoded\n",
    "    \n",
    "    def pad_or_truncate_tensor(self,tensor):\n",
    "        target_length = 1024\n",
    "        padding_value = [0, 0, 0, 0, 0, 0, 0, 0, 1]\n",
    "        # 如果张量的长度小于目标长度，那么补齐它\n",
    "        if tensor.size(0) < target_length:\n",
    "            padding_length = target_length - tensor.size(0)\n",
    "            padding_tensor = torch.tensor(padding_value).repeat(padding_length, 1).to(device)\n",
    "            tensor = torch.cat([tensor, padding_tensor], dim=0)\n",
    "        # 如果张量的长度大于目标长度，那么截断它\n",
    "        elif tensor.size(0) > target_length:\n",
    "            tensor = tensor[:target_length]\n",
    "\n",
    "        return tensor\n",
    "    def forward(self, x,y,z):\n",
    "        embeddings_h = None\n",
    "        embeddings_l = None\n",
    "        embeddings_g = None\n",
    "        device = torch.device(\"cuda:0\")\n",
    "        for i in range(0,len(x)):\n",
    "            token = x[i].unsqueeze(0)\n",
    "            #print(token,self.esm.device)\n",
    "            if embeddings_h is None:               \n",
    "                embeddings_h = self.esm(token).embeddings\n",
    "            else:\n",
    "                abitembeddings_h = self.esm(token).embeddings\n",
    "                embeddings_h = torch.cat((embeddings_h, abitembeddings_h), dim=0)\n",
    "        out_heavy = embeddings_h\n",
    "        out_heavy = out_heavy.permute(0, 2, 1)#batch representation length\n",
    "        out_heavy = self.layer1(out_heavy)\n",
    "        out_heavy = self.layer2(out_heavy)\n",
    "        for i in range(0,len(y)):\n",
    "            token = y[i].unsqueeze(0)\n",
    "            #print(token,self.esm.device)\n",
    "            if embeddings_l is None:               \n",
    "                embeddings_l = self.esm(token).embeddings\n",
    "            else:\n",
    "                abitembeddings_l = self.esm(token).embeddings\n",
    "                embeddings_l = torch.cat((embeddings_l, abitembeddings_l), dim=0)\n",
    "        out_light = embeddings_l\n",
    "        out_light = out_light.permute(0, 2, 1)\n",
    "        out_light = self.light_layer1(out_light)\n",
    "        out_light = self.light_layer2(out_light)\n",
    "        for i in range(0,len(z)):\n",
    "            token = z[i].unsqueeze(0)\n",
    "            #print(token,self.esm.device)\n",
    "            if embeddings_g is None:               \n",
    "                embeddings_g = self.esm_antigen(token).embeddings\n",
    "            else:\n",
    "                abitembeddings_g = self.esm_antigen(token).embeddings\n",
    "                embeddings_g = torch.cat((embeddings_g, abitembeddings_g), dim=0)\n",
    "        out_antigen = embeddings_g\n",
    "        out_antigen = out_antigen.permute(0, 2, 1)\n",
    "        out_antigen = self.antigen_layer1(out_antigen)\n",
    "        out_antigen = self.antigen_layer2(out_antigen)\n",
    "        out_heavy = out_heavy.permute(2, 0, 1)  # Change the shape to (seq_len, batch, embed_dim)\n",
    "        out_heavy, attn_weights_h = self.multihead_attention(out_heavy, out_heavy, out_heavy)\n",
    "        out_heavy = out_heavy.permute(1, 2, 0)  # Change the shape back to (batch, embed_dim, seq_len)\n",
    "        out_light = out_light.permute(2, 0, 1)  # Change the shape to (seq_len, batch, embed_dim)\n",
    "        out_light, attn_weights_l = self.multihead_attentio_light(out_light, out_light, out_light)\n",
    "        out_light = out_light.permute(1, 2, 0)  # Change the shape back to (batch, embed_dim, seq_len)\n",
    "        out_antigen = out_antigen.permute(2, 0, 1)  # Change the shape to (seq_len, batch, embed_dim)\n",
    "        out_antigen, attn_weights_g = self.multihead_attentio_antigen(out_antigen, out_antigen, out_antigen)\n",
    "        out_antigen = out_antigen.permute(1, 2, 0)  # Change the shape back to (batch, embed_dim, seq_len)\n",
    "        out = torch.cat((out_heavy, out_light,out_antigen), dim=2)\n",
    "        out = out.reshape(out.size(0), -1)\n",
    "        if self.fc1 is None:\n",
    "            self.fc1 = nn.Linear(out.size(1), 1000).to(out.device)\n",
    "        out = self.drop_out(out)\n",
    "        out = self.fc1(out)\n",
    "        out = self.drop_out(out)\n",
    "        out = self.fc2(out)\n",
    "        return out\n",
    "\n",
    "    def training_step(self, batch, batch_idx):\n",
    "        self.train()\n",
    "        x, y,z,label = batch\n",
    "        x_hat = self.forward(x,y,z)\n",
    "        # 使用示例\n",
    "        criterion = HuberLoss(delta=1.0)\n",
    "        '''\n",
    "        # 或\n",
    "        criterion = LogCoshLoss()\n",
    "        # 或\n",
    "        criterion = CustomProteinLoss(mse_weight=0.7, mae_weight=0.3)\n",
    "        '''\n",
    "            # 调整label维度以匹配x_hat\n",
    "        label = label.view(-1, 1)  # [100] -> [100, 1]\n",
    "        loss = criterion(x_hat, label)\n",
    "        # 计算各项评价指标\n",
    "        mse = self.mse(x_hat, label)\n",
    "        mae = self.mae(x_hat, label)\n",
    "        rmse = self.rmse(x_hat, label)\n",
    "        r2score = self.r2score(x_hat, label)\n",
    "        pearson = self.pearson(x_hat, label)\n",
    "        \n",
    "        # 记录训练过程中的指标\n",
    "        self.log('train_loss', loss,  on_epoch=True, prog_bar=True)\n",
    "        self.log('train_mse', mse, on_epoch=True, prog_bar=True)\n",
    "        self.log('train_mae', mae, on_epoch=True, prog_bar=True)\n",
    "        self.log('train_rmse', rmse, on_epoch=True, prog_bar=True)\n",
    "        self.log('train_r2', r2score, on_epoch=True, prog_bar=True)\n",
    "        self.log('train_pearson', pearson, on_epoch=True, prog_bar=True)\n",
    "        return loss\n",
    "\n",
    "    def on_train_epoch_start(self):\n",
    "        if self.current_epoch % 2 == 0:\n",
    "            # 偶数轮：冻结 esm_antigen，解冻 esm\n",
    "            for param in self.esm_antigen.parameters():\n",
    "                param.requires_grad = False\n",
    "            for param in self.esm.parameters():\n",
    "                param.requires_grad = True\n",
    "            current_model = \"esm (esm_antigen frozen)\"\n",
    "            model_id = 0  # 使用数值表示当前模型\n",
    "        else:\n",
    "            # 奇数轮：冻结 esm，解冻 esm_antigen\n",
    "            for param in self.esm.parameters():\n",
    "                param.requires_grad = False\n",
    "            for param in self.esm_antigen.parameters():\n",
    "                param.requires_grad = True\n",
    "            current_model = \"esm_antigen (esm frozen)\"\n",
    "            model_id = 1  # 使用数值表示当前模型\n",
    "        \n",
    "        # 使用数值记录当前模型类型\n",
    "        self.log(\"current_model_id\", float(model_id))\n",
    "        print(f\"Epoch {self.current_epoch}: Training {current_model}\")\n",
    "        \n",
    "        # 输出模型参数状态以验证\n",
    "        esm_trainable = sum(p.numel() for p in self.esm.parameters() if p.requires_grad)\n",
    "        antigen_trainable = sum(p.numel() for p in self.esm_antigen.parameters() if p.requires_grad)\n",
    "        print(f\"ESM 参数: {esm_trainable:,} trainable\")\n",
    "        print(f\"ESM_antigen 参数: {antigen_trainable:,} trainable\")\n",
    "    \n",
    "    def test_step(self, batch, batch_idx):\n",
    "        self.eval()\n",
    "        x, y,z,label = batch\n",
    "        x_hat = self.forward(x,y,z)\n",
    "        criterion = HuberLoss(delta=1.0)\n",
    "            # 调整label维度以匹配x_hat\n",
    "        label = label.view(-1, 1)  # [100] -> [100, 1]\n",
    "        loss = criterion(x_hat, label)\n",
    "    \n",
    "        # 计算各项评价指标\n",
    "        mse = self.mse(x_hat, label)\n",
    "        mae = self.mae(x_hat, label)\n",
    "        rmse = self.rmse(x_hat, label)\n",
    "        r2score = self.r2score(x_hat, label)\n",
    "        pearson = self.pearson(x_hat, label)\n",
    "        \n",
    "        # 记录训练过程中的指标\n",
    "        self.log('test_loss', loss, on_epoch=True, prog_bar=True)\n",
    "        self.log('test_mse', mse, on_epoch=True, prog_bar=True)\n",
    "        self.log('test_mae', mae,  on_epoch=True, prog_bar=True)\n",
    "        self.log('test_rmse', rmse,  on_epoch=True, prog_bar=True)\n",
    "        self.log('test_r2', r2score, on_epoch=True, prog_bar=True)\n",
    "        self.log('test_pearson', pearson,  on_epoch=True, prog_bar=True)\n",
    "        return {\"test_loss\": loss, \"test_r2\": r2score, \"test_pearson\": pearson}\n",
    "\n",
    "    '''\n",
    "    def validation_step(self, batch, batch_idx):\n",
    "        self.eval()\n",
    "        x, y, z, label = batch\n",
    "        x_hat = self.forward(x, y, z)\n",
    "        label = label.view(-1, 1)\n",
    "        loss = LogCoshLoss()(x_hat, label)  # 与训练一致\n",
    "        pearson = self.pearson(x_hat, label)\n",
    "        # 记录验证集指标\n",
    "        self.log('val_loss', loss, on_epoch=True, prog_bar=True)\n",
    "        self.log('val_mse', self.mse(x_hat, label), on_epoch=True)\n",
    "        self.log(\"val_pearson\", pearson, on_epoch=True, prog_bar=True)\n",
    "        return pearson\n",
    "    '''\n",
    "    def validation_step(self, batch, batch_idx):\n",
    "        self.eval()\n",
    "        x, y, z, label = batch\n",
    "        x_hat = self.forward(x, y, z)\n",
    "        label = label.view(-1, 1)\n",
    "        loss = LogCoshLoss()(x_hat, label)  # 与训练一致\n",
    "        pearson = self.pearson(x_hat, label)\n",
    "        \n",
    "        # 记录验证集指标\n",
    "        self.log('val_loss', loss, on_epoch=True, prog_bar=True)\n",
    "        self.log('val_mse', self.mse(x_hat, label), on_epoch=True)\n",
    "        self.log(\"val_pearson\", pearson, on_epoch=True, prog_bar=True)\n",
    "        \n",
    "        # 打印预测值与实际值 (添加此部分)\n",
    "        if batch_idx == 0:  # 只打印第一个batch，避免过多输出\n",
    "            print(\"\\n===== 验证集预测与实际值比较 =====\")\n",
    "            for i in range(min(5, len(x_hat))):  # 打印前5个样本\n",
    "                print(f\"样本 {i}: 预测值 = {x_hat[i].item():.4f}, 实际值 = {label[i].item():.4f}, 差值 = {(x_hat[i] - label[i]).item():.4f}\")\n",
    "            \n",
    "            # 计算整个batch的统计信息\n",
    "            mean_pred = x_hat.mean().item()\n",
    "            mean_true = label.mean().item()\n",
    "            print(f\"\\n批次统计: 平均预测值 = {mean_pred:.4f}, 平均实际值 = {mean_true:.4f}\")\n",
    "            print(f\"预测值范围: [{x_hat.min().item():.4f}, {x_hat.max().item():.4f}]\")\n",
    "            print(f\"实际值范围: [{label.min().item():.4f}, {label.max().item():.4f}]\")\n",
    "        \n",
    "        # 返回更多信息用于epoch_end汇总\n",
    "        return {\"val_loss\": loss, \"val_pearson\": pearson, \n",
    "                \"pred\": x_hat.detach(), \"true\": label.detach()}\n",
    "\n",
    "    def configure_optimizers(self):\n",
    "        optimizer = torch.optim.Adam(self.parameters(), lr=0.0001)\n",
    "        steplr_scheduler = torch.optim.lr_scheduler.StepLR(optimizer, step_size  = 1, gamma = 0.8)#每一步都进行学习率的衰减\n",
    "        return {\"optimizer\": optimizer , \"lr_scheduler\": steplr_scheduler}"
   ]
  },
  {
   "cell_type": "code",
   "execution_count": 4,
   "id": "a58b58e3-a6ec-4570-a9ac-d14a67be2718",
   "metadata": {
    "papermill": {
     "duration": null,
     "end_time": null,
     "exception": false,
     "start_time": "2024-10-01T06:18:17.635403",
     "status": "running"
    },
    "tags": []
   },
   "outputs": [
    {
     "data": {
      "application/vnd.jupyter.widget-view+json": {
       "model_id": "9caba18ee34848c5bc79101790f42609",
       "version_major": 2,
       "version_minor": 0
      },
      "text/plain": [
       "Fetching 4 files:   0%|          | 0/4 [00:00<?, ?it/s]"
      ]
     },
     "metadata": {},
     "output_type": "display_data"
    },
    {
     "name": "stderr",
     "output_type": "stream",
     "text": [
      "You are using the plain ModelCheckpoint callback. Consider using LitModelCheckpoint which with seamless uploading to Model registry.\n",
      "GPU available: True (cuda), used: True\n",
      "TPU available: False, using: 0 TPU cores\n",
      "HPU available: False, using: 0 HPUs\n",
      "You are using a CUDA device ('NVIDIA L20') that has Tensor Cores. To properly utilize them, you should set `torch.set_float32_matmul_precision('medium' | 'high')` which will trade-off precision for performance. For more details, read https://pytorch.org/docs/stable/generated/torch.set_float32_matmul_precision.html#torch.set_float32_matmul_precision\n",
      "LOCAL_RANK: 0 - CUDA_VISIBLE_DEVICES: [0]\n",
      "\n",
      "   | Name                       | Type               | Params | Mode \n",
      "---------------------------------------------------------------------------\n",
      "0  | esm                        | ESMC               | 332 M  | eval \n",
      "1  | esm_antigen                | ESMC               | 332 M  | eval \n",
      "2  | layer1                     | Sequential         | 307 K  | train\n",
      "3  | layer2                     | Sequential         | 41.1 K | train\n",
      "4  | light_layer1               | Sequential         | 307 K  | train\n",
      "5  | light_layer2               | Sequential         | 41.1 K | train\n",
      "6  | antigen_layer1             | Sequential         | 307 K  | train\n",
      "7  | antigen_layer2             | Sequential         | 41.1 K | train\n",
      "8  | drop_out                   | Dropout            | 0      | train\n",
      "9  | fc2                        | Linear             | 1.0 K  | train\n",
      "10 | multihead_attention        | MultiheadAttention | 66.0 K | train\n",
      "11 | multihead_attentio_light   | MultiheadAttention | 66.0 K | train\n",
      "12 | multihead_attentio_antigen | MultiheadAttention | 66.0 K | train\n",
      "13 | mse                        | MeanSquaredError   | 0      | train\n",
      "14 | mae                        | MeanAbsoluteError  | 0      | train\n",
      "15 | rmse                       | MeanSquaredError   | 0      | train\n",
      "16 | r2score                    | R2Score            | 0      | train\n",
      "17 | pearson                    | PearsonCorrCoef    | 0      | train\n",
      "---------------------------------------------------------------------------\n",
      "667 M     Trainable params\n",
      "0         Non-trainable params\n",
      "667 M     Total params\n",
      "2,668.956 Total estimated model params size (MB)\n",
      "40        Modules in train mode\n",
      "860       Modules in eval mode\n"
     ]
    },
    {
     "data": {
      "application/vnd.jupyter.widget-view+json": {
       "model_id": "",
       "version_major": 2,
       "version_minor": 0
      },
      "text/plain": [
       "Sanity Checking: |          | 0/? [00:00<?, ?it/s]"
      ]
     },
     "metadata": {},
     "output_type": "display_data"
    },
    {
     "name": "stderr",
     "output_type": "stream",
     "text": [
      "/public/home/ligroupprotein/.conda/envs/esm3test/lib/python3.10/site-packages/pytorch_lightning/trainer/connectors/data_connector.py:476: Your `val_dataloader`'s sampler has shuffling enabled, it is strongly recommended that you turn shuffling off for val/test dataloaders.\n",
      "/public/home/ligroupprotein/.conda/envs/esm3test/lib/python3.10/site-packages/pytorch_lightning/trainer/connectors/data_connector.py:425: The 'val_dataloader' does not have many workers which may be a bottleneck. Consider increasing the value of the `num_workers` argument` to `num_workers=87` in the `DataLoader` to improve performance.\n",
      "/public/home/ligroupprotein/.conda/envs/esm3test/lib/python3.10/site-packages/torchmetrics/utilities/prints.py:43: UserWarning: The variance of predictions or target is close to zero. This can cause instability in Pearson correlationcoefficient, leading to wrong results. Consider re-scaling the input if possible or computing using alarger dtype (currently using torch.float32). Setting the correlation coefficient to nan.\n",
      "  warnings.warn(*args, **kwargs)\n"
     ]
    },
    {
     "name": "stdout",
     "output_type": "stream",
     "text": [
      "\n",
      "===== 验证集预测与实际值比较 =====\n",
      "样本 0: 预测值 = 0.0053, 实际值 = -8.9200, 差值 = 8.9253\n",
      "样本 1: 预测值 = 0.0054, 实际值 = -10.7700, 差值 = 10.7754\n",
      "样本 2: 预测值 = 0.0043, 实际值 = -10.0380, 差值 = 10.0423\n",
      "样本 3: 预测值 = 0.0062, 实际值 = -13.4700, 差值 = 13.4762\n",
      "样本 4: 预测值 = 0.0052, 实际值 = -12.7922, 差值 = 12.7974\n",
      "\n",
      "批次统计: 平均预测值 = 0.0055, 平均实际值 = -10.8935\n",
      "预测值范围: [0.0043, 0.0063]\n",
      "实际值范围: [-14.1550, -6.3500]\n"
     ]
    },
    {
     "name": "stderr",
     "output_type": "stream",
     "text": [
      "/public/home/ligroupprotein/.conda/envs/esm3test/lib/python3.10/site-packages/pytorch_lightning/trainer/connectors/data_connector.py:425: The 'train_dataloader' does not have many workers which may be a bottleneck. Consider increasing the value of the `num_workers` argument` to `num_workers=87` in the `DataLoader` to improve performance.\n"
     ]
    },
    {
     "data": {
      "application/vnd.jupyter.widget-view+json": {
       "model_id": "8032b8863a7c41c5a6cb90ed2b9c054b",
       "version_major": 2,
       "version_minor": 0
      },
      "text/plain": [
       "Training: |          | 0/? [00:00<?, ?it/s]"
      ]
     },
     "metadata": {},
     "output_type": "display_data"
    },
    {
     "name": "stdout",
     "output_type": "stream",
     "text": [
      "Epoch 0: Training esm (esm_antigen frozen)\n",
      "ESM 参数: 332,997,184 trainable\n",
      "ESM_antigen 参数: 0 trainable\n"
     ]
    },
    {
     "data": {
      "application/vnd.jupyter.widget-view+json": {
       "model_id": "",
       "version_major": 2,
       "version_minor": 0
      },
      "text/plain": [
       "Validation: |          | 0/? [00:00<?, ?it/s]"
      ]
     },
     "metadata": {},
     "output_type": "display_data"
    },
    {
     "name": "stdout",
     "output_type": "stream",
     "text": [
      "\n",
      "===== 验证集预测与实际值比较 =====\n",
      "样本 0: 预测值 = -13.3423, 实际值 = -13.5000, 差值 = 0.1577\n",
      "样本 1: 预测值 = -11.8821, 实际值 = -12.5000, 差值 = 0.6179\n",
      "样本 2: 预测值 = -9.7485, 实际值 = -8.0391, 差值 = -1.7094\n",
      "样本 3: 预测值 = -10.8799, 实际值 = -9.5497, 差值 = -1.3302\n",
      "样本 4: 预测值 = -11.8503, 实际值 = -11.1180, 差值 = -0.7323\n",
      "\n",
      "批次统计: 平均预测值 = -11.1840, 平均实际值 = -10.8077\n",
      "预测值范围: [-13.4032, -7.4194]\n",
      "实际值范围: [-13.7000, -8.0391]\n",
      "Epoch 1: Training esm_antigen (esm frozen)\n",
      "ESM 参数: 0 trainable\n",
      "ESM_antigen 参数: 332,997,184 trainable\n"
     ]
    },
    {
     "data": {
      "application/vnd.jupyter.widget-view+json": {
       "model_id": "",
       "version_major": 2,
       "version_minor": 0
      },
      "text/plain": [
       "Validation: |          | 0/? [00:00<?, ?it/s]"
      ]
     },
     "metadata": {},
     "output_type": "display_data"
    },
    {
     "name": "stdout",
     "output_type": "stream",
     "text": [
      "\n",
      "===== 验证集预测与实际值比较 =====\n",
      "样本 0: 预测值 = -8.8504, 实际值 = -8.8391, 差值 = -0.0113\n",
      "样本 1: 预测值 = -12.2710, 实际值 = -12.1702, 差值 = -0.1009\n",
      "样本 2: 预测值 = -12.0196, 实际值 = -11.5600, 差值 = -0.4596\n",
      "样本 3: 预测值 = -13.3894, 实际值 = -15.7200, 差值 = 2.3306\n",
      "样本 4: 预测值 = -11.6424, 实际值 = -10.3700, 差值 = -1.2724\n",
      "\n",
      "批次统计: 平均预测值 = -10.9346, 平均实际值 = -11.2518\n",
      "预测值范围: [-13.3894, -8.8204]\n",
      "实际值范围: [-15.7200, -7.9391]\n",
      "Epoch 2: Training esm (esm_antigen frozen)\n",
      "ESM 参数: 332,997,184 trainable\n",
      "ESM_antigen 参数: 0 trainable\n"
     ]
    },
    {
     "data": {
      "application/vnd.jupyter.widget-view+json": {
       "model_id": "",
       "version_major": 2,
       "version_minor": 0
      },
      "text/plain": [
       "Validation: |          | 0/? [00:00<?, ?it/s]"
      ]
     },
     "metadata": {},
     "output_type": "display_data"
    },
    {
     "name": "stdout",
     "output_type": "stream",
     "text": [
      "\n",
      "===== 验证集预测与实际值比较 =====\n",
      "样本 0: 预测值 = -10.1811, 实际值 = -10.4000, 差值 = 0.2189\n",
      "样本 1: 预测值 = -9.9916, 实际值 = -11.5000, 差值 = 1.5084\n",
      "样本 2: 预测值 = -10.4075, 实际值 = -12.5000, 差值 = 2.0925\n",
      "样本 3: 预测值 = -10.3509, 实际值 = -10.4400, 差值 = 0.0891\n",
      "样本 4: 预测值 = -10.6727, 实际值 = -7.8600, 差值 = -2.8127\n",
      "\n",
      "批次统计: 平均预测值 = -10.4453, 平均实际值 = -10.1824\n",
      "预测值范围: [-13.6517, -8.9938]\n",
      "实际值范围: [-14.4500, -5.1785]\n",
      "Epoch 3: Training esm_antigen (esm frozen)\n",
      "ESM 参数: 0 trainable\n",
      "ESM_antigen 参数: 332,997,184 trainable\n"
     ]
    },
    {
     "data": {
      "application/vnd.jupyter.widget-view+json": {
       "model_id": "",
       "version_major": 2,
       "version_minor": 0
      },
      "text/plain": [
       "Validation: |          | 0/? [00:00<?, ?it/s]"
      ]
     },
     "metadata": {},
     "output_type": "display_data"
    },
    {
     "name": "stdout",
     "output_type": "stream",
     "text": [
      "\n",
      "===== 验证集预测与实际值比较 =====\n",
      "样本 0: 预测值 = -9.1521, 实际值 = -8.2413, 差值 = -0.9107\n",
      "样本 1: 预测值 = -14.8838, 实际值 = -14.7400, 差值 = -0.1438\n",
      "样本 2: 预测值 = -10.3893, 实际值 = -11.0688, 差值 = 0.6795\n",
      "样本 3: 预测值 = -9.7171, 实际值 = -6.3500, 差值 = -3.3671\n",
      "样本 4: 预测值 = -11.1364, 实际值 = -8.9200, 差值 = -2.2164\n",
      "\n",
      "批次统计: 平均预测值 = -10.7399, 平均实际值 = -10.8160\n",
      "预测值范围: [-14.8838, -8.9317]\n",
      "实际值范围: [-14.9000, -5.8600]\n",
      "Epoch 4: Training esm (esm_antigen frozen)\n",
      "ESM 参数: 332,997,184 trainable\n",
      "ESM_antigen 参数: 0 trainable\n"
     ]
    },
    {
     "data": {
      "application/vnd.jupyter.widget-view+json": {
       "model_id": "",
       "version_major": 2,
       "version_minor": 0
      },
      "text/plain": [
       "Validation: |          | 0/? [00:00<?, ?it/s]"
      ]
     },
     "metadata": {},
     "output_type": "display_data"
    },
    {
     "name": "stdout",
     "output_type": "stream",
     "text": [
      "\n",
      "===== 验证集预测与实际值比较 =====\n",
      "样本 0: 预测值 = -10.4383, 实际值 = -8.7400, 差值 = -1.6983\n",
      "样本 1: 预测值 = -10.6041, 实际值 = -11.8600, 差值 = 1.2559\n",
      "样本 2: 预测值 = -11.1571, 实际值 = -12.4400, 差值 = 1.2829\n",
      "样本 3: 预测值 = -9.1780, 实际值 = -9.4900, 差值 = 0.3120\n",
      "样本 4: 预测值 = -11.7612, 实际值 = -14.9000, 差值 = 3.1388\n",
      "\n",
      "批次统计: 平均预测值 = -10.3670, 平均实际值 = -11.0135\n",
      "预测值范围: [-11.8980, -8.6630]\n",
      "实际值范围: [-14.9000, -8.7400]\n",
      "Epoch 5: Training esm_antigen (esm frozen)\n",
      "ESM 参数: 0 trainable\n",
      "ESM_antigen 参数: 332,997,184 trainable\n"
     ]
    },
    {
     "data": {
      "application/vnd.jupyter.widget-view+json": {
       "model_id": "",
       "version_major": 2,
       "version_minor": 0
      },
      "text/plain": [
       "Validation: |          | 0/? [00:00<?, ?it/s]"
      ]
     },
     "metadata": {},
     "output_type": "display_data"
    },
    {
     "name": "stdout",
     "output_type": "stream",
     "text": [
      "\n",
      "===== 验证集预测与实际值比较 =====\n",
      "样本 0: 预测值 = -10.1246, 实际值 = -12.2700, 差值 = 2.1454\n",
      "样本 1: 预测值 = -12.1361, 实际值 = -9.9100, 差值 = -2.2261\n",
      "样本 2: 预测值 = -10.4974, 实际值 = -10.8400, 差值 = 0.3426\n",
      "样本 3: 预测值 = -9.6527, 实际值 = -8.6500, 差值 = -1.0027\n",
      "样本 4: 预测值 = -9.1789, 实际值 = -11.2800, 差值 = 2.1011\n",
      "\n",
      "批次统计: 平均预测值 = -10.3977, 平均实际值 = -11.2016\n",
      "预测值范围: [-12.1361, -8.2172]\n",
      "实际值范围: [-15.4000, -8.6500]\n",
      "Epoch 6: Training esm (esm_antigen frozen)\n",
      "ESM 参数: 332,997,184 trainable\n",
      "ESM_antigen 参数: 0 trainable\n"
     ]
    },
    {
     "data": {
      "application/vnd.jupyter.widget-view+json": {
       "model_id": "",
       "version_major": 2,
       "version_minor": 0
      },
      "text/plain": [
       "Validation: |          | 0/? [00:00<?, ?it/s]"
      ]
     },
     "metadata": {},
     "output_type": "display_data"
    },
    {
     "name": "stdout",
     "output_type": "stream",
     "text": [
      "\n",
      "===== 验证集预测与实际值比较 =====\n",
      "样本 0: 预测值 = -10.8651, 实际值 = -9.2124, 差值 = -1.6527\n",
      "样本 1: 预测值 = -10.2231, 实际值 = -11.2500, 差值 = 1.0269\n",
      "样本 2: 预测值 = -13.3201, 实际值 = -14.2290, 差值 = 0.9089\n",
      "样本 3: 预测值 = -13.3504, 实际值 = -14.7400, 差值 = 1.3896\n",
      "样本 4: 预测值 = -9.4132, 实际值 = -9.7500, 差值 = 0.3368\n",
      "\n",
      "批次统计: 平均预测值 = -10.9711, 平均实际值 = -11.2992\n",
      "预测值范围: [-13.3504, -8.8454]\n",
      "实际值范围: [-14.7400, -5.7858]\n",
      "Epoch 7: Training esm_antigen (esm frozen)\n",
      "ESM 参数: 0 trainable\n",
      "ESM_antigen 参数: 332,997,184 trainable\n"
     ]
    },
    {
     "data": {
      "application/vnd.jupyter.widget-view+json": {
       "model_id": "",
       "version_major": 2,
       "version_minor": 0
      },
      "text/plain": [
       "Validation: |          | 0/? [00:00<?, ?it/s]"
      ]
     },
     "metadata": {},
     "output_type": "display_data"
    },
    {
     "name": "stdout",
     "output_type": "stream",
     "text": [
      "\n",
      "===== 验证集预测与实际值比较 =====\n",
      "样本 0: 预测值 = -9.4107, 实际值 = -9.8400, 差值 = 0.4293\n",
      "样本 1: 预测值 = -11.8020, 实际值 = -11.5000, 差值 = -0.3020\n",
      "样本 2: 预测值 = -12.3423, 实际值 = -14.0000, 差值 = 1.6577\n",
      "样本 3: 预测值 = -9.5700, 实际值 = -10.2436, 差值 = 0.6736\n",
      "样本 4: 预测值 = -9.2942, 实际值 = -10.4300, 差值 = 1.1358\n",
      "\n",
      "批次统计: 平均预测值 = -10.8620, 平均实际值 = -11.9124\n",
      "预测值范围: [-13.2088, -8.6968]\n",
      "实际值范围: [-14.6900, -9.8400]\n",
      "Epoch 8: Training esm (esm_antigen frozen)\n",
      "ESM 参数: 332,997,184 trainable\n",
      "ESM_antigen 参数: 0 trainable\n"
     ]
    },
    {
     "data": {
      "application/vnd.jupyter.widget-view+json": {
       "model_id": "",
       "version_major": 2,
       "version_minor": 0
      },
      "text/plain": [
       "Validation: |          | 0/? [00:00<?, ?it/s]"
      ]
     },
     "metadata": {},
     "output_type": "display_data"
    },
    {
     "name": "stdout",
     "output_type": "stream",
     "text": [
      "\n",
      "===== 验证集预测与实际值比较 =====\n",
      "样本 0: 预测值 = -9.6755, 实际值 = -8.2700, 差值 = -1.4055\n",
      "样本 1: 预测值 = -8.8193, 实际值 = -10.0600, 差值 = 1.2407\n",
      "样本 2: 预测值 = -9.6150, 实际值 = -9.5497, 差值 = -0.0653\n",
      "样本 3: 预测值 = -10.7358, 实际值 = -12.7200, 差值 = 1.9842\n",
      "样本 4: 预测值 = -9.4309, 实际值 = -10.2900, 差值 = 0.8591\n",
      "\n",
      "批次统计: 平均预测值 = -10.8597, 平均实际值 = -10.7129\n",
      "预测值范围: [-15.0766, -8.8193]\n",
      "实际值范围: [-14.0400, -8.2700]\n",
      "Epoch 9: Training esm_antigen (esm frozen)\n",
      "ESM 参数: 0 trainable\n",
      "ESM_antigen 参数: 332,997,184 trainable\n"
     ]
    },
    {
     "data": {
      "application/vnd.jupyter.widget-view+json": {
       "model_id": "",
       "version_major": 2,
       "version_minor": 0
      },
      "text/plain": [
       "Validation: |          | 0/? [00:00<?, ?it/s]"
      ]
     },
     "metadata": {},
     "output_type": "display_data"
    },
    {
     "name": "stdout",
     "output_type": "stream",
     "text": [
      "\n",
      "===== 验证集预测与实际值比较 =====\n",
      "样本 0: 预测值 = -9.2774, 实际值 = -9.2500, 差值 = -0.0274\n",
      "样本 1: 预测值 = -10.7938, 实际值 = -9.3600, 差值 = -1.4338\n",
      "样本 2: 预测值 = -15.1986, 实际值 = -15.0067, 差值 = -0.1919\n",
      "样本 3: 预测值 = -9.5700, 实际值 = -10.9698, 差值 = 1.3998\n",
      "样本 4: 预测值 = -9.8430, 实际值 = -10.3400, 差值 = 0.4970\n",
      "\n",
      "批次统计: 平均预测值 = -11.4762, 平均实际值 = -11.5344\n",
      "预测值范围: [-15.1986, -9.2774]\n",
      "实际值范围: [-15.0067, -9.0800]\n",
      "Epoch 10: Training esm (esm_antigen frozen)\n",
      "ESM 参数: 332,997,184 trainable\n",
      "ESM_antigen 参数: 0 trainable\n"
     ]
    },
    {
     "data": {
      "application/vnd.jupyter.widget-view+json": {
       "model_id": "",
       "version_major": 2,
       "version_minor": 0
      },
      "text/plain": [
       "Validation: |          | 0/? [00:00<?, ?it/s]"
      ]
     },
     "metadata": {},
     "output_type": "display_data"
    },
    {
     "name": "stdout",
     "output_type": "stream",
     "text": [
      "\n",
      "===== 验证集预测与实际值比较 =====\n",
      "样本 0: 预测值 = -11.0905, 实际值 = -10.7700, 差值 = -0.3205\n",
      "样本 1: 预测值 = -9.4094, 实际值 = -13.4300, 差值 = 4.0206\n",
      "样本 2: 预测值 = -10.2178, 实际值 = -5.1785, 差值 = -5.0393\n",
      "样本 3: 预测值 = -9.8103, 实际值 = -11.5000, 差值 = 1.6897\n",
      "样本 4: 预测值 = -11.8051, 实际值 = -9.8000, 差值 = -2.0051\n",
      "\n",
      "批次统计: 平均预测值 = -10.7302, 平均实际值 = -10.6114\n",
      "预测值范围: [-13.0915, -8.7554]\n",
      "实际值范围: [-14.0000, -2.9990]\n",
      "Epoch 11: Training esm_antigen (esm frozen)\n",
      "ESM 参数: 0 trainable\n",
      "ESM_antigen 参数: 332,997,184 trainable\n"
     ]
    },
    {
     "data": {
      "application/vnd.jupyter.widget-view+json": {
       "model_id": "",
       "version_major": 2,
       "version_minor": 0
      },
      "text/plain": [
       "Validation: |          | 0/? [00:00<?, ?it/s]"
      ]
     },
     "metadata": {},
     "output_type": "display_data"
    },
    {
     "name": "stdout",
     "output_type": "stream",
     "text": [
      "\n",
      "===== 验证集预测与实际值比较 =====\n",
      "样本 0: 预测值 = -12.8763, 实际值 = -6.0900, 差值 = -6.7863\n",
      "样本 1: 预测值 = -8.2759, 实际值 = -7.8372, 差值 = -0.4387\n",
      "样本 2: 预测值 = -10.7934, 实际值 = -10.3700, 差值 = -0.4234\n",
      "样本 3: 预测值 = -10.7697, 实际值 = -9.3700, 差值 = -1.3997\n",
      "样本 4: 预测值 = -9.7840, 实际值 = -11.7000, 差值 = 1.9160\n",
      "\n",
      "批次统计: 平均预测值 = -10.6234, 平均实际值 = -9.9848\n",
      "预测值范围: [-12.8763, -8.2759]\n",
      "实际值范围: [-12.7000, -6.0900]\n",
      "Epoch 12: Training esm (esm_antigen frozen)\n",
      "ESM 参数: 332,997,184 trainable\n",
      "ESM_antigen 参数: 0 trainable\n"
     ]
    },
    {
     "data": {
      "application/vnd.jupyter.widget-view+json": {
       "model_id": "",
       "version_major": 2,
       "version_minor": 0
      },
      "text/plain": [
       "Validation: |          | 0/? [00:00<?, ?it/s]"
      ]
     },
     "metadata": {},
     "output_type": "display_data"
    },
    {
     "name": "stdout",
     "output_type": "stream",
     "text": [
      "\n",
      "===== 验证集预测与实际值比较 =====\n",
      "样本 0: 预测值 = -11.1215, 实际值 = -12.2000, 差值 = 1.0785\n",
      "样本 1: 预测值 = -9.0768, 实际值 = -10.6500, 差值 = 1.5732\n",
      "样本 2: 预测值 = -9.3185, 实际值 = -7.7748, 差值 = -1.5438\n",
      "样本 3: 预测值 = -9.6244, 实际值 = -14.2300, 差值 = 4.6056\n",
      "样本 4: 预测值 = -12.4030, 实际值 = -12.5000, 差值 = 0.0970\n",
      "\n",
      "批次统计: 平均预测值 = -10.3030, 平均实际值 = -10.5993\n",
      "预测值范围: [-13.0331, -8.1144]\n",
      "实际值范围: [-14.6584, -3.0000]\n",
      "Epoch 13: Training esm_antigen (esm frozen)\n",
      "ESM 参数: 0 trainable\n",
      "ESM_antigen 参数: 332,997,184 trainable\n"
     ]
    },
    {
     "data": {
      "application/vnd.jupyter.widget-view+json": {
       "model_id": "",
       "version_major": 2,
       "version_minor": 0
      },
      "text/plain": [
       "Validation: |          | 0/? [00:00<?, ?it/s]"
      ]
     },
     "metadata": {},
     "output_type": "display_data"
    },
    {
     "name": "stdout",
     "output_type": "stream",
     "text": [
      "\n",
      "===== 验证集预测与实际值比较 =====\n",
      "样本 0: 预测值 = -13.2897, 实际值 = -13.8800, 差值 = 0.5903\n",
      "样本 1: 预测值 = -10.6638, 实际值 = -10.7000, 差值 = 0.0362\n",
      "样本 2: 预测值 = -11.9010, 实际值 = -14.6584, 差值 = 2.7574\n",
      "样本 3: 预测值 = -12.1815, 实际值 = -12.9000, 差值 = 0.7185\n",
      "样本 4: 预测值 = -11.4875, 实际值 = -7.8600, 差值 = -3.6275\n",
      "\n",
      "批次统计: 平均预测值 = -10.3687, 平均实际值 = -11.0821\n",
      "预测值范围: [-13.2897, -8.0096]\n",
      "实际值范围: [-14.6584, -5.7858]\n",
      "Epoch 14: Training esm (esm_antigen frozen)\n",
      "ESM 参数: 332,997,184 trainable\n",
      "ESM_antigen 参数: 0 trainable\n"
     ]
    },
    {
     "data": {
      "application/vnd.jupyter.widget-view+json": {
       "model_id": "",
       "version_major": 2,
       "version_minor": 0
      },
      "text/plain": [
       "Validation: |          | 0/? [00:00<?, ?it/s]"
      ]
     },
     "metadata": {},
     "output_type": "display_data"
    },
    {
     "name": "stdout",
     "output_type": "stream",
     "text": [
      "\n",
      "===== 验证集预测与实际值比较 =====\n",
      "样本 0: 预测值 = -8.0672, 实际值 = -7.5000, 差值 = -0.5672\n",
      "样本 1: 预测值 = -12.3113, 实际值 = -12.2260, 差值 = -0.0853\n",
      "样本 2: 预测值 = -9.3669, 实际值 = -9.5497, 差值 = 0.1828\n",
      "样本 3: 预测值 = -9.1841, 实际值 = -9.0826, 差值 = -0.1016\n",
      "样本 4: 预测值 = -8.2565, 实际值 = -10.0600, 差值 = 1.8035\n",
      "\n",
      "批次统计: 平均预测值 = -10.4373, 平均实际值 = -10.8736\n",
      "预测值范围: [-13.4451, -7.4278]\n",
      "实际值范围: [-15.8280, -5.0800]\n",
      "Epoch 15: Training esm_antigen (esm frozen)\n",
      "ESM 参数: 0 trainable\n",
      "ESM_antigen 参数: 332,997,184 trainable\n"
     ]
    },
    {
     "data": {
      "application/vnd.jupyter.widget-view+json": {
       "model_id": "",
       "version_major": 2,
       "version_minor": 0
      },
      "text/plain": [
       "Validation: |          | 0/? [00:00<?, ?it/s]"
      ]
     },
     "metadata": {},
     "output_type": "display_data"
    },
    {
     "name": "stdout",
     "output_type": "stream",
     "text": [
      "\n",
      "===== 验证集预测与实际值比较 =====\n",
      "样本 0: 预测值 = -12.3386, 实际值 = -15.8280, 差值 = 3.4895\n",
      "样本 1: 预测值 = -8.7844, 实际值 = -9.0068, 差值 = 0.2225\n",
      "样本 2: 预测值 = -14.2180, 实际值 = -14.2990, 差值 = 0.0810\n",
      "样本 3: 预测值 = -10.9036, 实际值 = -11.2500, 差值 = 0.3464\n",
      "样本 4: 预测值 = -9.4481, 实际值 = -9.7400, 差值 = 0.2919\n",
      "\n",
      "批次统计: 平均预测值 = -11.0738, 平均实际值 = -11.4030\n",
      "预测值范围: [-14.2180, -8.7844]\n",
      "实际值范围: [-15.8280, -2.9990]\n",
      "Epoch 16: Training esm (esm_antigen frozen)\n",
      "ESM 参数: 332,997,184 trainable\n",
      "ESM_antigen 参数: 0 trainable\n"
     ]
    },
    {
     "data": {
      "application/vnd.jupyter.widget-view+json": {
       "model_id": "",
       "version_major": 2,
       "version_minor": 0
      },
      "text/plain": [
       "Validation: |          | 0/? [00:00<?, ?it/s]"
      ]
     },
     "metadata": {},
     "output_type": "display_data"
    },
    {
     "name": "stdout",
     "output_type": "stream",
     "text": [
      "\n",
      "===== 验证集预测与实际值比较 =====\n",
      "样本 0: 预测值 = -12.8859, 实际值 = -9.3500, 差值 = -3.5359\n",
      "样本 1: 预测值 = -11.1243, 实际值 = -11.4100, 差值 = 0.2857\n",
      "样本 2: 预测值 = -9.8327, 实际值 = -11.6897, 差值 = 1.8570\n",
      "样本 3: 预测值 = -11.1095, 实际值 = -11.9000, 差值 = 0.7905\n",
      "样本 4: 预测值 = -7.6915, 实际值 = -10.6543, 差值 = 2.9628\n",
      "\n",
      "批次统计: 平均预测值 = -10.6549, 平均实际值 = -10.3430\n",
      "预测值范围: [-14.4510, -7.6915]\n",
      "实际值范围: [-14.1000, -3.0000]\n",
      "Epoch 17: Training esm_antigen (esm frozen)\n",
      "ESM 参数: 0 trainable\n",
      "ESM_antigen 参数: 332,997,184 trainable\n"
     ]
    },
    {
     "data": {
      "application/vnd.jupyter.widget-view+json": {
       "model_id": "",
       "version_major": 2,
       "version_minor": 0
      },
      "text/plain": [
       "Validation: |          | 0/? [00:00<?, ?it/s]"
      ]
     },
     "metadata": {},
     "output_type": "display_data"
    },
    {
     "name": "stdout",
     "output_type": "stream",
     "text": [
      "\n",
      "===== 验证集预测与实际值比较 =====\n",
      "样本 0: 预测值 = -10.2522, 实际值 = -11.0924, 差值 = 0.8401\n",
      "样本 1: 预测值 = -9.4280, 实际值 = -10.8500, 差值 = 1.4220\n",
      "样本 2: 预测值 = -12.2004, 实际值 = -11.8900, 差值 = -0.3104\n",
      "样本 3: 预测值 = -12.4756, 实际值 = -10.9965, 差值 = -1.4792\n",
      "样本 4: 预测值 = -10.1257, 实际值 = -10.3400, 差值 = 0.2143\n",
      "\n",
      "批次统计: 平均预测值 = -11.0685, 平均实际值 = -11.0888\n",
      "预测值范围: [-14.8831, -8.8048]\n",
      "实际值范围: [-14.2990, -9.0826]\n",
      "Epoch 18: Training esm (esm_antigen frozen)\n",
      "ESM 参数: 332,997,184 trainable\n",
      "ESM_antigen 参数: 0 trainable\n"
     ]
    },
    {
     "data": {
      "application/vnd.jupyter.widget-view+json": {
       "model_id": "",
       "version_major": 2,
       "version_minor": 0
      },
      "text/plain": [
       "Validation: |          | 0/? [00:00<?, ?it/s]"
      ]
     },
     "metadata": {},
     "output_type": "display_data"
    },
    {
     "name": "stdout",
     "output_type": "stream",
     "text": [
      "\n",
      "===== 验证集预测与实际值比较 =====\n",
      "样本 0: 预测值 = -9.7609, 实际值 = -9.5041, 差值 = -0.2567\n",
      "样本 1: 预测值 = -12.2917, 实际值 = -14.0000, 差值 = 1.7083\n",
      "样本 2: 预测值 = -13.1074, 实际值 = -13.0800, 差值 = -0.0274\n",
      "样本 3: 预测值 = -9.7419, 实际值 = -10.0780, 差值 = 0.3361\n",
      "样本 4: 预测值 = -10.5144, 实际值 = -11.0600, 差值 = 0.5456\n",
      "\n",
      "批次统计: 平均预测值 = -11.1380, 平均实际值 = -11.0589\n",
      "预测值范围: [-14.0512, -8.6140]\n",
      "实际值范围: [-14.0000, -8.8300]\n",
      "Epoch 19: Training esm_antigen (esm frozen)\n",
      "ESM 参数: 0 trainable\n",
      "ESM_antigen 参数: 332,997,184 trainable\n"
     ]
    },
    {
     "data": {
      "application/vnd.jupyter.widget-view+json": {
       "model_id": "",
       "version_major": 2,
       "version_minor": 0
      },
      "text/plain": [
       "Validation: |          | 0/? [00:00<?, ?it/s]"
      ]
     },
     "metadata": {},
     "output_type": "display_data"
    },
    {
     "name": "stdout",
     "output_type": "stream",
     "text": [
      "\n",
      "===== 验证集预测与实际值比较 =====\n",
      "样本 0: 预测值 = -12.6405, 实际值 = -13.3600, 差值 = 0.7195\n",
      "样本 1: 预测值 = -15.0105, 实际值 = -16.0800, 差值 = 1.0695\n",
      "样本 2: 预测值 = -9.7617, 实际值 = -10.2500, 差值 = 0.4883\n",
      "样本 3: 预测值 = -11.9479, 实际值 = -13.4022, 差值 = 1.4543\n",
      "样本 4: 预测值 = -13.7742, 实际值 = -14.5600, 差值 = 0.7858\n",
      "\n",
      "批次统计: 平均预测值 = -11.5106, 平均实际值 = -11.8941\n",
      "预测值范围: [-15.0105, -9.4833]\n",
      "实际值范围: [-16.0800, -6.8900]\n",
      "Epoch 20: Training esm (esm_antigen frozen)\n",
      "ESM 参数: 332,997,184 trainable\n",
      "ESM_antigen 参数: 0 trainable\n"
     ]
    },
    {
     "data": {
      "application/vnd.jupyter.widget-view+json": {
       "model_id": "",
       "version_major": 2,
       "version_minor": 0
      },
      "text/plain": [
       "Validation: |          | 0/? [00:00<?, ?it/s]"
      ]
     },
     "metadata": {},
     "output_type": "display_data"
    },
    {
     "name": "stdout",
     "output_type": "stream",
     "text": [
      "\n",
      "===== 验证集预测与实际值比较 =====\n",
      "样本 0: 预测值 = -10.6842, 实际值 = -10.5690, 差值 = -0.1152\n",
      "样本 1: 预测值 = -14.7566, 实际值 = -14.1000, 差值 = -0.6566\n",
      "样本 2: 预测值 = -10.2752, 实际值 = -10.2690, 差值 = -0.0062\n",
      "样本 3: 预测值 = -12.1582, 实际值 = -11.3000, 差值 = -0.8582\n",
      "样本 4: 预测值 = -9.9381, 实际值 = -10.9698, 差值 = 1.0317\n",
      "\n",
      "批次统计: 平均预测值 = -11.3165, 平均实际值 = -11.0244\n",
      "预测值范围: [-14.8061, -9.1284]\n",
      "实际值范围: [-14.9000, -5.8600]\n",
      "Epoch 21: Training esm_antigen (esm frozen)\n",
      "ESM 参数: 0 trainable\n",
      "ESM_antigen 参数: 332,997,184 trainable\n"
     ]
    },
    {
     "data": {
      "application/vnd.jupyter.widget-view+json": {
       "model_id": "dffd0cffe030429699cd711f7e6ac305",
       "version_major": 2,
       "version_minor": 0
      },
      "text/plain": [
       "Validation: |          | 0/? [00:00<?, ?it/s]"
      ]
     },
     "metadata": {},
     "output_type": "display_data"
    },
    {
     "name": "stdout",
     "output_type": "stream",
     "text": [
      "\n",
      "===== 验证集预测与实际值比较 =====\n",
      "样本 0: 预测值 = -11.6118, 实际值 = -9.8000, 差值 = -1.8118\n",
      "样本 1: 预测值 = -9.8756, 实际值 = -8.8100, 差值 = -1.0656\n",
      "样本 2: 预测值 = -10.3276, 实际值 = -10.3000, 差值 = -0.0276\n",
      "样本 3: 预测值 = -11.4258, 实际值 = -11.5000, 差值 = 0.0742\n",
      "样本 4: 预测值 = -11.9228, 实际值 = -12.5700, 差值 = 0.6472\n",
      "\n",
      "批次统计: 平均预测值 = -10.4481, 平均实际值 = -10.1086\n",
      "预测值范围: [-13.8611, -7.8415]\n",
      "实际值范围: [-14.2300, -6.3500]\n",
      "Epoch 22: Training esm (esm_antigen frozen)\n",
      "ESM 参数: 332,997,184 trainable\n",
      "ESM_antigen 参数: 0 trainable\n"
     ]
    },
    {
     "data": {
      "application/vnd.jupyter.widget-view+json": {
       "model_id": "9ee55aec9da144e28de35e4b2dc4ccc9",
       "version_major": 2,
       "version_minor": 0
      },
      "text/plain": [
       "Validation: |          | 0/? [00:00<?, ?it/s]"
      ]
     },
     "metadata": {},
     "output_type": "display_data"
    },
    {
     "name": "stdout",
     "output_type": "stream",
     "text": [
      "\n",
      "===== 验证集预测与实际值比较 =====\n",
      "样本 0: 预测值 = -14.4381, 实际值 = -13.5200, 差值 = -0.9181\n",
      "样本 1: 预测值 = -10.9980, 实际值 = -9.0800, 差值 = -1.9180\n",
      "样本 2: 预测值 = -9.6123, 实际值 = -9.0800, 差值 = -0.5323\n",
      "样本 3: 预测值 = -10.6704, 实际值 = -11.5200, 差值 = 0.8496\n",
      "样本 4: 预测值 = -11.3354, 实际值 = -11.5500, 差值 = 0.2146\n",
      "\n",
      "批次统计: 平均预测值 = -10.9516, 平均实际值 = -10.8722\n",
      "预测值范围: [-14.4381, -8.0405]\n",
      "实际值范围: [-14.7400, -4.1060]\n",
      "Epoch 23: Training esm_antigen (esm frozen)\n",
      "ESM 参数: 0 trainable\n",
      "ESM_antigen 参数: 332,997,184 trainable\n"
     ]
    },
    {
     "data": {
      "application/vnd.jupyter.widget-view+json": {
       "model_id": "e41a43edb72a444bb57e33f621babccc",
       "version_major": 2,
       "version_minor": 0
      },
      "text/plain": [
       "Validation: |          | 0/? [00:00<?, ?it/s]"
      ]
     },
     "metadata": {},
     "output_type": "display_data"
    },
    {
     "name": "stdout",
     "output_type": "stream",
     "text": [
      "\n",
      "===== 验证集预测与实际值比较 =====\n",
      "样本 0: 预测值 = -11.8354, 实际值 = -12.5980, 差值 = 0.7626\n",
      "样本 1: 预测值 = -8.9982, 实际值 = -8.0900, 差值 = -0.9082\n",
      "样本 2: 预测值 = -9.1303, 实际值 = -9.2200, 差值 = 0.0897\n",
      "样本 3: 预测值 = -10.2521, 实际值 = -9.2690, 差值 = -0.9831\n",
      "样本 4: 预测值 = -14.4322, 实际值 = -12.8800, 差值 = -1.5522\n",
      "\n",
      "批次统计: 平均预测值 = -10.4316, 平均实际值 = -9.9158\n",
      "预测值范围: [-14.4322, -6.8447]\n",
      "实际值范围: [-14.5300, -3.0000]\n",
      "Epoch 24: Training esm (esm_antigen frozen)\n",
      "ESM 参数: 332,997,184 trainable\n",
      "ESM_antigen 参数: 0 trainable\n"
     ]
    },
    {
     "data": {
      "application/vnd.jupyter.widget-view+json": {
       "model_id": "5819cf89ec644d4c964393d85bcfb2d4",
       "version_major": 2,
       "version_minor": 0
      },
      "text/plain": [
       "Validation: |          | 0/? [00:00<?, ?it/s]"
      ]
     },
     "metadata": {},
     "output_type": "display_data"
    },
    {
     "name": "stdout",
     "output_type": "stream",
     "text": [
      "\n",
      "===== 验证集预测与实际值比较 =====\n",
      "样本 0: 预测值 = -12.9133, 实际值 = -14.0000, 差值 = 1.0867\n",
      "样本 1: 预测值 = -13.2210, 实际值 = -13.7000, 差值 = 0.4790\n",
      "样本 2: 预测值 = -10.8655, 实际值 = -12.2782, 差值 = 1.4127\n",
      "样本 3: 预测值 = -9.4695, 实际值 = -9.3000, 差值 = -0.1695\n",
      "样本 4: 预测值 = -10.4545, 实际值 = -11.5900, 差值 = 1.1355\n",
      "\n",
      "批次统计: 平均预测值 = -10.5838, 平均实际值 = -10.6073\n",
      "预测值范围: [-13.2320, -6.7817]\n",
      "实际值范围: [-14.6584, -3.0000]\n",
      "Epoch 25: Training esm_antigen (esm frozen)\n",
      "ESM 参数: 0 trainable\n",
      "ESM_antigen 参数: 332,997,184 trainable\n"
     ]
    },
    {
     "data": {
      "application/vnd.jupyter.widget-view+json": {
       "model_id": "231b8662a8ac46febd7ee4b68bf40797",
       "version_major": 2,
       "version_minor": 0
      },
      "text/plain": [
       "Validation: |          | 0/? [00:00<?, ?it/s]"
      ]
     },
     "metadata": {},
     "output_type": "display_data"
    },
    {
     "name": "stdout",
     "output_type": "stream",
     "text": [
      "\n",
      "===== 验证集预测与实际值比较 =====\n",
      "样本 0: 预测值 = -9.9608, 实际值 = -11.8000, 差值 = 1.8392\n",
      "样本 1: 预测值 = -9.9150, 实际值 = -9.8400, 差值 = -0.0750\n",
      "样本 2: 预测值 = -10.0090, 实际值 = -8.9200, 差值 = -1.0890\n",
      "样本 3: 预测值 = -9.6987, 实际值 = -8.3201, 差值 = -1.3786\n",
      "样本 4: 预测值 = -9.9639, 实际值 = -10.0800, 差值 = 0.1161\n",
      "\n",
      "批次统计: 平均预测值 = -10.8238, 平均实际值 = -10.9121\n",
      "预测值范围: [-12.7202, -9.6269]\n",
      "实际值范围: [-13.4022, -7.5200]\n",
      "Epoch 26: Training esm (esm_antigen frozen)\n",
      "ESM 参数: 332,997,184 trainable\n",
      "ESM_antigen 参数: 0 trainable\n"
     ]
    },
    {
     "data": {
      "application/vnd.jupyter.widget-view+json": {
       "model_id": "b86a058efd5a457fbbb35cf07961a8f4",
       "version_major": 2,
       "version_minor": 0
      },
      "text/plain": [
       "Validation: |          | 0/? [00:00<?, ?it/s]"
      ]
     },
     "metadata": {},
     "output_type": "display_data"
    },
    {
     "name": "stdout",
     "output_type": "stream",
     "text": [
      "\n",
      "===== 验证集预测与实际值比较 =====\n",
      "样本 0: 预测值 = -9.0597, 实际值 = -8.6500, 差值 = -0.4097\n",
      "样本 1: 预测值 = -10.5786, 实际值 = -10.6000, 差值 = 0.0214\n",
      "样本 2: 预测值 = -13.8760, 实际值 = -14.2290, 差值 = 0.3530\n",
      "样本 3: 预测值 = -10.0867, 实际值 = -10.4000, 差值 = 0.3133\n",
      "样本 4: 预测值 = -13.6362, 实际值 = -14.7400, 差值 = 1.1038\n",
      "\n",
      "批次统计: 平均预测值 = -11.3356, 平均实际值 = -11.1308\n",
      "预测值范围: [-14.7073, -7.8658]\n",
      "实际值范围: [-15.0067, -6.3500]\n",
      "Epoch 27: Training esm_antigen (esm frozen)\n",
      "ESM 参数: 0 trainable\n",
      "ESM_antigen 参数: 332,997,184 trainable\n"
     ]
    },
    {
     "data": {
      "application/vnd.jupyter.widget-view+json": {
       "model_id": "eafab4b53bb843379b311cb35d1ed6e3",
       "version_major": 2,
       "version_minor": 0
      },
      "text/plain": [
       "Validation: |          | 0/? [00:00<?, ?it/s]"
      ]
     },
     "metadata": {},
     "output_type": "display_data"
    },
    {
     "name": "stdout",
     "output_type": "stream",
     "text": [
      "\n",
      "===== 验证集预测与实际值比较 =====\n",
      "样本 0: 预测值 = -10.0277, 实际值 = -11.1000, 差值 = 1.0723\n",
      "样本 1: 预测值 = -10.9140, 实际值 = -10.2000, 差值 = -0.7140\n",
      "样本 2: 预测值 = -11.9927, 实际值 = -10.9965, 差值 = -0.9963\n",
      "样本 3: 预测值 = -9.1680, 实际值 = -9.8200, 差值 = 0.6520\n",
      "样本 4: 预测值 = -9.7550, 实际值 = -8.2612, 差值 = -1.4938\n",
      "\n",
      "批次统计: 平均预测值 = -10.2479, 平均实际值 = -10.7224\n",
      "预测值范围: [-12.1362, -9.1680]\n",
      "实际值范围: [-14.6584, -8.2612]\n",
      "Epoch 28: Training esm (esm_antigen frozen)\n",
      "ESM 参数: 332,997,184 trainable\n",
      "ESM_antigen 参数: 0 trainable\n"
     ]
    },
    {
     "data": {
      "application/vnd.jupyter.widget-view+json": {
       "model_id": "7b6918d2cdf14c1a9b42503778e9f636",
       "version_major": 2,
       "version_minor": 0
      },
      "text/plain": [
       "Validation: |          | 0/? [00:00<?, ?it/s]"
      ]
     },
     "metadata": {},
     "output_type": "display_data"
    },
    {
     "name": "stdout",
     "output_type": "stream",
     "text": [
      "\n",
      "===== 验证集预测与实际值比较 =====\n",
      "样本 0: 预测值 = -10.2193, 实际值 = -9.8623, 差值 = -0.3569\n",
      "样本 1: 预测值 = -10.9906, 实际值 = -9.7900, 差值 = -1.2006\n",
      "样本 2: 预测值 = -11.0994, 实际值 = -11.6600, 差值 = 0.5606\n",
      "样本 3: 预测值 = -9.5238, 实际值 = -10.4300, 差值 = 0.9062\n",
      "样本 4: 预测值 = -9.0547, 实际值 = -9.0068, 差值 = -0.0479\n",
      "\n",
      "批次统计: 平均预测值 = -10.7034, 平均实际值 = -10.8148\n",
      "预测值范围: [-12.9997, -9.0547]\n",
      "实际值范围: [-14.0400, -6.7648]\n",
      "Epoch 29: Training esm_antigen (esm frozen)\n",
      "ESM 参数: 0 trainable\n",
      "ESM_antigen 参数: 332,997,184 trainable\n"
     ]
    },
    {
     "data": {
      "application/vnd.jupyter.widget-view+json": {
       "model_id": "c7e6f9f85e014290aca316b2bb1c2fb4",
       "version_major": 2,
       "version_minor": 0
      },
      "text/plain": [
       "Validation: |          | 0/? [00:00<?, ?it/s]"
      ]
     },
     "metadata": {},
     "output_type": "display_data"
    },
    {
     "name": "stdout",
     "output_type": "stream",
     "text": [
      "\n",
      "===== 验证集预测与实际值比较 =====\n",
      "样本 0: 预测值 = -12.1614, 实际值 = -12.5519, 差值 = 0.3906\n",
      "样本 1: 预测值 = -10.8472, 实际值 = -11.2500, 差值 = 0.4028\n",
      "样本 2: 预测值 = -8.9485, 实际值 = -8.3800, 差值 = -0.5685\n",
      "样本 3: 预测值 = -13.8132, 实际值 = -14.5300, 差值 = 0.7168\n",
      "样本 4: 预测值 = -11.3168, 实际值 = -10.9500, 差值 = -0.3668\n",
      "\n",
      "批次统计: 平均预测值 = -11.7972, 平均实际值 = -11.9569\n",
      "预测值范围: [-14.5676, -8.9485]\n",
      "实际值范围: [-15.7200, -7.8200]\n"
     ]
    },
    {
     "name": "stderr",
     "output_type": "stream",
     "text": [
      "`Trainer.fit` stopped: `max_epochs=30` reached.\n"
     ]
    }
   ],
   "source": [
    "from pytorch_lightning import Trainer, loggers\n",
    "import random\n",
    "# 定义参数\n",
    "num_features = 512  # 特征数量，也是Transformer的d_model参数\n",
    "num_classes = 30  # 类别数量 因为是预测结果也是氨基酸 所以是词表大小 为30\n",
    "nhead = 8  # Transformer的头的数量\n",
    "num_encoder_layers = 3  # Transformer编码器的层数\n",
    "num_decoder_layers = 3  # Transformer解码器的层数\n",
    "learning_rate = 0.0001  # 学习率\n",
    "num_epochs = 30\n",
    "# 初始化模型\n",
    "seed = random.randint(0, 10000)\n",
    "model = ClassifierNet()\n",
    "device = torch.device('cuda:0')\n",
    "model = model.to(device)\n",
    "\n",
    "csv_logger = loggers.CSVLogger('L_20_AF_lc_alldata_ESM3CNN+MUTIATTN_conlogs/')\n",
    "# 初始化训练器\n",
    "trainer = Trainer(max_epochs=num_epochs,logger = csv_logger,accelerator=\"gpu\", devices=[0])\n",
    "\n",
    "# 训练模型\n",
    "#tokenized_sequence = tokenize_aacid_sequence(sequence)\n",
    "trainer.fit(model, train_dataloaders=train_dataloader,val_dataloaders=val_dataloader)"
   ]
  },
  {
   "cell_type": "code",
   "execution_count": 5,
   "id": "e79ba4b8-92f3-4a69-a998-cd6568036b21",
   "metadata": {
    "papermill": {
     "duration": null,
     "end_time": null,
     "exception": null,
     "start_time": null,
     "status": "pending"
    },
    "tags": []
   },
   "outputs": [
    {
     "name": "stderr",
     "output_type": "stream",
     "text": [
      "LOCAL_RANK: 0 - CUDA_VISIBLE_DEVICES: [0]\n",
      "/public/home/ligroupprotein/.conda/envs/esm3test/lib/python3.10/site-packages/pytorch_lightning/trainer/connectors/data_connector.py:476: Your `test_dataloader`'s sampler has shuffling enabled, it is strongly recommended that you turn shuffling off for val/test dataloaders.\n",
      "/public/home/ligroupprotein/.conda/envs/esm3test/lib/python3.10/site-packages/pytorch_lightning/trainer/connectors/data_connector.py:425: The 'test_dataloader' does not have many workers which may be a bottleneck. Consider increasing the value of the `num_workers` argument` to `num_workers=87` in the `DataLoader` to improve performance.\n"
     ]
    },
    {
     "data": {
      "application/vnd.jupyter.widget-view+json": {
       "model_id": "30d83bc3bb4044159bef06c666effe08",
       "version_major": 2,
       "version_minor": 0
      },
      "text/plain": [
       "Testing: |          | 0/? [00:00<?, ?it/s]"
      ]
     },
     "metadata": {},
     "output_type": "display_data"
    },
    {
     "name": "stdout",
     "output_type": "stream",
     "text": [
      "────────────────────────────────────────────────────────────────────────────────────────────────────────────────────────\n",
      "       Test metric             DataLoader 0\n",
      "────────────────────────────────────────────────────────────────────────────────────────────────────────────────────────\n",
      "        test_loss           0.7563793683693961\n",
      "        test_mae            1.1437164545059204\n",
      "        test_mse             2.960632562637329\n",
      "      test_pearson          0.7118431925773621\n",
      "         test_r2            0.4668962591179704\n",
      "        test_rmse            1.645863652229309\n",
      "────────────────────────────────────────────────────────────────────────────────────────────────────────────────────────\n"
     ]
    },
    {
     "data": {
      "text/plain": [
       "[{'test_loss': 0.7563793683693961,\n",
       "  'test_mse': 2.960632562637329,\n",
       "  'test_mae': 1.1437164545059204,\n",
       "  'test_rmse': 1.645863652229309,\n",
       "  'test_r2': 0.4668962591179704,\n",
       "  'test_pearson': 0.7118431925773621}]"
      ]
     },
     "execution_count": 5,
     "metadata": {},
     "output_type": "execute_result"
    }
   ],
   "source": [
    "trainer.test(model, test_dataloader)"
   ]
  },
  {
   "cell_type": "code",
   "execution_count": null,
   "id": "bd229f8a-e3f3-45b1-b4a4-6a9499805672",
   "metadata": {},
   "outputs": [],
   "source": []
  }
 ],
 "metadata": {
  "kernelspec": {
   "display_name": "Python 3 (ipykernel)",
   "language": "python",
   "name": "python3"
  },
  "language_info": {
   "codemirror_mode": {
    "name": "ipython",
    "version": 3
   },
   "file_extension": ".py",
   "mimetype": "text/x-python",
   "name": "python",
   "nbconvert_exporter": "python",
   "pygments_lexer": "ipython3",
   "version": "3.10.14"
  },
  "papermill": {
   "default_parameters": {},
   "duration": null,
   "end_time": null,
   "environment_variables": {},
   "exception": null,
   "input_path": "antibody epitope predict.ipynb",
   "output_path": "anti_out_2_TS+CNN+MUTIATTN.ipynb",
   "parameters": {},
   "start_time": "2024-10-01T06:18:02.820811",
   "version": "2.5.0"
  }
 },
 "nbformat": 4,
 "nbformat_minor": 5
}
