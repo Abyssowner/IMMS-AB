{
 "cells": [
  {
   "cell_type": "code",
   "execution_count": 3,
   "id": "953b3ecb-f769-42c7-8e93-b52c9c4ec649",
   "metadata": {},
   "outputs": [
    {
     "name": "stdout",
     "output_type": "stream",
     "text": [
      "所有ID都有对应的文件\n"
     ]
    }
   ],
   "source": [
    "import os\n",
    "\n",
    "def find_missing_files(list_file_path, folder_path):\n",
    "    # 读取list_file.txt\n",
    "    with open(list_file_path, 'r') as f:\n",
    "        content = f.read()\n",
    "    \n",
    "    # 解析PDB ID列表 (格式为1AHW, 1BJ1, 1BVK,)\n",
    "    ids = [item.strip() for item in content.replace('\\n', '').split(',') if item.strip()]\n",
    "    \n",
    "    # 获取extracted文件夹中的所有文件名\n",
    "    existing_files = os.listdir(folder_path)\n",
    "    existing_files = [os.path.splitext(f)[0] for f in existing_files]  # 去掉扩展名\n",
    "    \n",
    "    # 检查缺失的ID\n",
    "    missing = []\n",
    "    for pdb_id in ids:\n",
    "        if pdb_id not in existing_files:\n",
    "            missing.append(pdb_id)\n",
    "    \n",
    "    return missing\n",
    "\n",
    "# 执行检查\n",
    "missing_files = find_missing_files(\"list_file.txt\", \"./extracted\")\n",
    "\n",
    "# 输出结果\n",
    "if missing_files:\n",
    "    print(f\"在extracted文件夹中缺少以下{len(missing_files)}个文件:\")\n",
    "    for item in missing_files:\n",
    "        print(item)\n",
    "else:\n",
    "    print(\"所有ID都有对应的文件\")"
   ]
  },
  {
   "cell_type": "code",
   "execution_count": null,
   "id": "ce4c98ac-78a6-4af5-890d-fa7ae42ef793",
   "metadata": {},
   "outputs": [],
   "source": []
  }
 ],
 "metadata": {
  "kernelspec": {
   "display_name": "Python 3 (ipykernel)",
   "language": "python",
   "name": "python3"
  },
  "language_info": {
   "codemirror_mode": {
    "name": "ipython",
    "version": 3
   },
   "file_extension": ".py",
   "mimetype": "text/x-python",
   "name": "python",
   "nbconvert_exporter": "python",
   "pygments_lexer": "ipython3",
   "version": "3.10.14"
  }
 },
 "nbformat": 4,
 "nbformat_minor": 5
}
